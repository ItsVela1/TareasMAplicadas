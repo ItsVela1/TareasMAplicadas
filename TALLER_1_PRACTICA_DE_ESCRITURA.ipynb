{
  "nbformat": 4,
  "nbformat_minor": 0,
  "metadata": {
    "colab": {
      "provenance": [],
      "include_colab_link": true
    },
    "kernelspec": {
      "name": "python3",
      "display_name": "Python 3"
    },
    "language_info": {
      "name": "python"
    }
  },
  "cells": [
    {
      "cell_type": "markdown",
      "metadata": {
        "id": "view-in-github",
        "colab_type": "text"
      },
      "source": [
        "<a href=\"https://colab.research.google.com/github/ItsVela1/TareasMAplicadas/blob/main/TALLER_1_PRACTICA_DE_ESCRITURA.ipynb\" target=\"_parent\"><img src=\"https://colab.research.google.com/assets/colab-badge.svg\" alt=\"Open In Colab\"/></a>"
      ]
    },
    {
      "cell_type": "code",
      "execution_count": null,
      "metadata": {
        "id": "RZcUeA1i-qYR"
      },
      "outputs": [],
      "source": []
    },
    {
      "cell_type": "markdown",
      "source": [
        "<SAMUEL VELA\n",
        "<<FELIPE CUADROS\n",
        "///JUAN ANDRES ARIZA\n",
        "////VALENTINA TANGARIFE RINCON\n"
      ],
      "metadata": {
        "id": "DjqiR20I_IO_"
      }
    }
  ]
}