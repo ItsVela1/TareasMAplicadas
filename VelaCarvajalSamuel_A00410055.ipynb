{
  "nbformat": 4,
  "nbformat_minor": 0,
  "metadata": {
    "colab": {
      "provenance": [],
      "authorship_tag": "ABX9TyN+NHiFitql4gmX4yg+0NPl",
      "include_colab_link": true
    },
    "kernelspec": {
      "name": "python3",
      "display_name": "Python 3"
    },
    "language_info": {
      "name": "python"
    }
  },
  "cells": [
    {
      "cell_type": "markdown",
      "metadata": {
        "id": "view-in-github",
        "colab_type": "text"
      },
      "source": [
        "<a href=\"https://colab.research.google.com/github/ItsVela1/TareasMAplicadas/blob/main/VelaCarvajalSamuel_A00410055.ipynb\" target=\"_parent\"><img src=\"https://colab.research.google.com/assets/colab-badge.svg\" alt=\"Open In Colab\"/></a>"
      ]
    },
    {
      "cell_type": "code",
      "execution_count": null,
      "metadata": {
        "id": "3qjPsrpa7-QH"
      },
      "outputs": [],
      "source": []
    },
    {
      "cell_type": "markdown",
      "source": [
        "#AutoBiografía\n",
        "Mi nombre es Samuel Vela Carvajal, nací en Armenia Quindio, digo Medellin el 28 de Junio de 2005. Desde pequeño apoyo al verde y he mostrado un gran interes por la tecnologia y la programación lo que me lleva a estar actualmente estudiando Ingenieria de Sistemas en la Universisdad ICESI.\n",
        "\n",
        "#Fotografía\n",
        "\n",
        "<font color=\"Green\"> El rey de copas el equipo más grande del país del país </font>\n",
        "\n",
        "<img src=https://i.ytimg.com/vi/P4YLOdr6e7U/maxresdefault.jpg>\n",
        "\n",
        "#Listado de canciones\n",
        "\n",
        ">5. Yogurcito *Blessd Compositor Stiven Mesa Londoño*\n",
        ">>4. Aceite De Coco *Blessd - Hades66 - Sahir - Ryan Castro - Darell - De la Ghetto - Kris R Compositor Stiven Mesa Londoño*\n",
        ">>>3. Blanquita *Kris R Compositor Kristian Rangel*\n",
        ">>>>2. Soltera *W sound - Blessd - Ovy on the Drums Compositor Luis Fernando Villa*\n",
        ">>>>>1. Polos Opuestos REMIX - Blessd Version *Kris R - Blessd  Compositor Stiven Mesa Londoño*\n",
        "\n",
        "\n",
        " #Tabla con mis asignaturas favoritas\n",
        "\n",
        "|   Materia Fav   |    Porque    |\n",
        "|-----------------|--------------|\n",
        "|  Ingesoft       | Nos enseñan la parte gráfica de la ingeniería de software.             |\n",
        "|  Aleman     | Es un idioma que me interesa y quiero aprender para irme de intercambio.             |\n",
        "|  Ingles          | Ya no la veo, pero siempre va a ser mi materia favorita.             |\n"
      ],
      "metadata": {
        "id": "VwyMKXlI91za"
      }
    },
    {
      "cell_type": "code",
      "source": [],
      "metadata": {
        "id": "ghty8TbIIgQK"
      },
      "execution_count": null,
      "outputs": []
    }
  ]
}